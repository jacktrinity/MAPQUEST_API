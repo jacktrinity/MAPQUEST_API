{
  "nbformat": 4,
  "nbformat_minor": 0,
  "metadata": {
    "colab": {
      "name": "GET_COUNTY.ipynb",
      "provenance": []
    },
    "kernelspec": {
      "name": "python3",
      "display_name": "Python 3"
    },
    "language_info": {
      "name": "python"
    }
  },
  "cells": [
    {
      "cell_type": "markdown",
      "source": [
        "IMPORT LIBRARY"
      ],
      "metadata": {
        "id": "nUsKlN00BAXO"
      }
    },
    {
      "cell_type": "code",
      "execution_count": 1,
      "metadata": {
        "id": "fJ1aoNEdcabs"
      },
      "outputs": [],
      "source": [
        "import pandas as pd\n",
        "import numpy as np\n",
        "\n",
        "import requests\n",
        "import json"
      ]
    },
    {
      "cell_type": "markdown",
      "source": [
        "MAPQUEST API TOKEN NEEDED"
      ],
      "metadata": {
        "id": "iJquYIKHBKk_"
      }
    },
    {
      "cell_type": "code",
      "source": [
        "KEY = 'TOKEN'"
      ],
      "metadata": {
        "id": "xy6u6dMrfHUP"
      },
      "execution_count": 2,
      "outputs": []
    },
    {
      "cell_type": "markdown",
      "source": [
        "LOAD FILE"
      ],
      "metadata": {
        "id": "-JcnoyCrA31N"
      }
    },
    {
      "cell_type": "code",
      "source": [
        "filename = 'FILENAME'\n",
        "filetype = '.csv'\n",
        "\n",
        "df = pd.read_csv(f'{filename}{filetype}')\n",
        "df.head()"
      ],
      "metadata": {
        "id": "SqNJLhYbeJ4r"
      },
      "execution_count": null,
      "outputs": []
    },
    {
      "cell_type": "code",
      "source": [
        "county_lst =[]"
      ],
      "metadata": {
        "id": "ZAMnTQDpm7n2"
      },
      "execution_count": 4,
      "outputs": []
    },
    {
      "cell_type": "markdown",
      "source": [
        "API REQUEST"
      ],
      "metadata": {
        "id": "D1vo8iHbB0jp"
      }
    },
    {
      "cell_type": "code",
      "source": [
        "for i in range(len(df)):\n",
        "  location = df['PLANT_CITY'][i]\n",
        "  location = location.replace(' ', '')\n",
        "\n",
        "  # Building API URL\n",
        "  url = f'http://www.mapquestapi.com/geocoding/v1/address?key={KEY}&location={location}'\n",
        "\n",
        "  try:\n",
        "    results = requests.get(url)\n",
        "    data = results.json()\n",
        "    county = data['results'][0]['locations'][0]['adminArea4']\n",
        "    \n",
        "  # Handle missing location\n",
        "  except:\n",
        "    county = 'NA'\n",
        "\n",
        "  county_lst.append(county)\n"
      ],
      "metadata": {
        "id": "DpwOrlq8hAjY"
      },
      "execution_count": 5,
      "outputs": []
    },
    {
      "cell_type": "markdown",
      "source": [
        "CLEAN UP"
      ],
      "metadata": {
        "id": "1QrfffBiB40P"
      }
    },
    {
      "cell_type": "code",
      "source": [
        "county_lst_clean = []"
      ],
      "metadata": {
        "id": "QhcmPuuAoQJR"
      },
      "execution_count": 18,
      "outputs": []
    },
    {
      "cell_type": "code",
      "source": [
        "# Clean up county_lst\n",
        "for county in county_lst:\n",
        "  if county == '':\n",
        "    county_lst_clean.append('NA')\n",
        "  else:\n",
        "    county_clean = county.replace('County', '')\n",
        "    county_clean = county_clean.replace('Parish', '')\n",
        "    county_clean = county_clean.upper()\n",
        "    county_clean = county_clean.strip()\n",
        "\n",
        "    county_lst_clean.append(county_clean)"
      ],
      "metadata": {
        "id": "DIUfo0RpnNiA"
      },
      "execution_count": 19,
      "outputs": []
    },
    {
      "cell_type": "code",
      "source": [
        "df['COUNTY'] = county_lst_clean"
      ],
      "metadata": {
        "id": "mAL4630HpMDN"
      },
      "execution_count": 20,
      "outputs": []
    },
    {
      "cell_type": "markdown",
      "source": [
        "SAVE FILE"
      ],
      "metadata": {
        "id": "8K7N2BbwB98E"
      }
    },
    {
      "cell_type": "code",
      "source": [
        "df.to_csv(f'{filename}_CLEAN{filetype}', index=False)"
      ],
      "metadata": {
        "id": "YeQDZMd6pYKt"
      },
      "execution_count": 21,
      "outputs": []
    }
  ]
}